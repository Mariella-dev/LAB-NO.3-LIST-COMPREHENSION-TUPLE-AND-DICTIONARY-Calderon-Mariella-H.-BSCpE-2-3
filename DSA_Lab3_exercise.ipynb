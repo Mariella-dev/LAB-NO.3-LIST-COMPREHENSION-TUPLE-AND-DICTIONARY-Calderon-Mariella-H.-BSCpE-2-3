{
 "cells": [
  {
   "cell_type": "markdown",
   "metadata": {},
   "source": [
    "# Data Structures and Algorithm\n",
    "## Laboratory Exercise No. 3\n",
    "Calderon, Mariella H.\n",
    "BSCpe 2-3\n",
    "CMPE 201 - Laboratory No.3\n",
    "Engr. Godofredo T. Avena\n",
    "Passed: October 6, 2024\n"
   ]
  },
  {
   "cell_type": "markdown",
   "metadata": {},
   "source": [
    "\n",
    "\n"
   ]
  },
  {
   "cell_type": "markdown",
   "metadata": {},
   "source": [
    "## Lab Exercise No. 1\n",
    "\n",
    "From a given list of integers, create a new list using comprehension that will compute the square of odd integer elements.\n"
   ]
  },
  {
   "cell_type": "code",
   "execution_count": 5,
   "metadata": {},
   "outputs": [
    {
     "name": "stdout",
     "output_type": "stream",
     "text": [
      "List of odd numbers in given list of integers:  [5, 9, 11, 13, 19, 21]\n",
      "Square of odd integer elements:  [25, 81, 121, 169, 361, 441]\n"
     ]
    }
   ],
   "source": [
    "# List of Integers\n",
    "values = [5, 9, 10, 11, 12, 13, 14, 19, 20, 21]\n",
    "\n",
    "# List comprehension to find the odd integers\n",
    "odd_num = [x for x in values if x % 2 != 0]\n",
    "\n",
    "# Concise way to find the squares of odd elements within a list using List Comprehension\n",
    "odd_sqs = [x ** 2 for x in odd_num]\n",
    "\n",
    "# Show the comprehension\n",
    "print(\"List of odd numbers in given list of integers: \", odd_num)\n",
    "print(\"Square of odd integer elements: \", odd_sqs)"
   ]
  },
  {
   "cell_type": "markdown",
   "metadata": {},
   "source": [
    "## Lab Exercise No. 2\n",
    "\n",
    "Using comprehension,create a new list of tuples from two given lists:"
   ]
  },
  {
   "cell_type": "code",
   "execution_count": 13,
   "metadata": {},
   "outputs": [
    {
     "name": "stdout",
     "output_type": "stream",
     "text": [
      "Top 6 Richest People in the World: \n",
      "[(1, 'Elon Musk'), (2, 'Larry Ellison'), (3, 'Mark Zuckerberg'), (4, 'Jeff Bezos'), (5, 'Bernard Arnault & Family')]\n"
     ]
    }
   ],
   "source": [
    "# Provided List\n",
    "list1 = [1, 2, 3, 4, 5]\n",
    "list2 = ['Elon Musk', 'Larry Ellison', 'Mark Zuckerberg', 'Jeff Bezos', 'Bernard Arnault & Family']\n",
    "\n",
    "# Use zip to pair corresponding elements from both lists\n",
    "list_of_people = list(zip(list1, list2))\n",
    "print(\"Top 6 Richest People in the World: \")\n",
    "print(list_of_people)"
   ]
  },
  {
   "cell_type": "markdown",
   "metadata": {},
   "source": [
    "\n"
   ]
  },
  {
   "cell_type": "markdown",
   "metadata": {},
   "source": [
    "## Lab Exercise No. 3\n",
    "### Provide a list comprehension that implementation for a function called vowelsToUpper with the following signature:\n",
    "\n",
    "Method name : vowelsToUpper\n",
    "\n",
    "Input argument : String \n",
    "\n",
    "Return argument : String\n",
    "\n",
    "vowelsToUpper must return a version of its String argument with all its vowels changed to their uppercase forms. Nonvowel characters stay as is."
   ]
  },
  {
   "cell_type": "code",
   "execution_count": 16,
   "metadata": {},
   "outputs": [
    {
     "name": "stdout",
     "output_type": "stream",
     "text": [
      "List of Metaphors:\n",
      "HEArt Of stOnE\n",
      "BlAnkEt Of snOw\n",
      "SEA Of trOUblEs\n",
      "HIs wOrds wErE A dOUblE-EdgEd swOrd\n",
      "ShE hAs A fIEry spIrIt\n"
     ]
    }
   ],
   "source": [
    "# Make a input argument\n",
    "def vowelsToUpper(s):\n",
    "    # Specify the vowels\n",
    "    vowels = \"aeiou\" \n",
    "\n",
    "    # List Comprehension to filter vowes and convert them to UPPERCASE characters\n",
    "    return ''.join(char.upper() if char in vowels else char for char in s)\n",
    "\n",
    "# Show the outputs\n",
    "print(\"List of Metaphors:\")\n",
    "print(vowelsToUpper(\"Heart of stone\"))\n",
    "print(vowelsToUpper(\"Blanket of snow\"))\n",
    "print(vowelsToUpper(\"Sea of troubles\"))\n",
    "print(vowelsToUpper(\"His words were a double-edged sword\"))\n",
    "print(vowelsToUpper(\"She has a fiery spirit\"))\n"
   ]
  }
 ],
 "metadata": {
  "kernelspec": {
   "display_name": "Python 3 (ipykernel)",
   "language": "python",
   "name": "python3"
  },
  "language_info": {
   "codemirror_mode": {
    "name": "ipython",
    "version": 3
   },
   "file_extension": ".py",
   "mimetype": "text/x-python",
   "name": "python",
   "nbconvert_exporter": "python",
   "pygments_lexer": "ipython3",
   "version": "3.11.5"
  }
 },
 "nbformat": 4,
 "nbformat_minor": 4
}
